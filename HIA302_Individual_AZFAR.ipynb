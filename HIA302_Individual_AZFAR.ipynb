{
  "cells": [
    {
      "cell_type": "markdown",
      "id": "8fb342c3-4d14-439c-a6b5-bf370a5fbf65",
      "metadata": {
        "id": "8fb342c3-4d14-439c-a6b5-bf370a5fbf65"
      },
      "source": [
        "# *FOR ITEM A*\n",
        "# Converting the Dataset .txt to .csv:\n",
        "\n",
        "There are several methods to convert a text file (.txt) to Comma Seperated Values (.csv):\n",
        "\n",
        "1. The easiest method is to manually rename the extension of the target text file from .txt to .csv - providing the data are already formatted in the CSV format.\n",
        "\n",
        "2. Secondly, on Macs with the application 'Numbers' (the MacOS native spreadsheet app), the dataset file can be opened directly from Finder using 'Open With...'. This method is slightly lengthier than simply renaming the file extension, but the .txt file (if correctly formatted) will automatically be arranged in tabular form with columns delienated by commas. The file can then be 'Save As...' and change the extension from .txt to .csv\n",
        "\n",
        "3. Thirdly, by using Microsoft Excel on any platforms supporting it natively. Open the Excel application and create a new spreadsheet."
      ]
    },
    {
      "cell_type": "code",
      "execution_count": null,
      "id": "cf561e41-194d-4ca0-a3c9-f6d73ba5e609",
      "metadata": {
        "id": "cf561e41-194d-4ca0-a3c9-f6d73ba5e609",
        "outputId": "02bbd065-d661-4b6f-b3c8-c1dc9716cee9"
      },
      "outputs": [
        {
          "name": "stdout",
          "output_type": "stream",
          "text": [
            "    Surgery  Age  Hosp No Rect Temp Heart Rate Respi Rate Ext Temp Peri Pulse  \\\n",
            "295       1    1   533886       NaN        120         70        4        NaN   \n",
            "296       2    1   527702     37.20         72         24        3          2   \n",
            "297       1    1   529386     37.50         72         30        4          3   \n",
            "298       1    1   530612     36.50        100         24        3          3   \n",
            "299       1    1   534618      37.2         40         20      NaN        NaN   \n",
            "\n",
            "    Mucosa  CRT  ... Proteins Ab_cen App Ab_cen Prt Outcome Les_Exist  \\\n",
            "295      4    2  ...       65        NaN        NaN       3         2   \n",
            "296      4    2  ...      NaN          3       3.30       3         1   \n",
            "297      4    1  ...     6.80        NaN        NaN       2         1   \n",
            "298      3    1  ...     6.00          3       3.40       1         1   \n",
            "299    NaN  NaN  ...       62          1          1       3         2   \n",
            "\n",
            "    Les_Site Les_Type Les_Sub Les_Code Path_Data  \n",
            "295     3205        0       0        2       NaN  \n",
            "296     2208        0       0        1       NaN  \n",
            "297     3205        0       0        2       NaN  \n",
            "298     2208        0       0        1       NaN  \n",
            "299     6112        0       0        2       NaN  \n",
            "\n",
            "[5 rows x 29 columns]\n"
          ]
        }
      ],
      "source": [
        "# *FOR ITEM B*\n",
        "## Opening .csv dataset in Jupyter Notebook:\n",
        "import pandas as pd\n",
        "import numpy as np\n",
        "\n",
        "column_names = ['Surgery','Age','Hosp No','Rect Temp','Heart Rate','Respi Rate',\n",
        "                'Ext Temp','Peri Pulse','Mucosa','CRT','Pain','Peristalsis',\n",
        "                'Abdo Dist','NG Tube','NG Ref Vol','NG Ref pH','Feces Amt',\n",
        "                'Int Feces','PCV','Proteins','Ab_cen App','Ab_cen Prt',\n",
        "                'Outcome','Les_Exist','Les_Site','Les_Type','Les_Sub',\n",
        "                'Les_Code','Path_Data']\n",
        "\n",
        "df = pd.read_csv('/Users/azfar/Documents/Academic/IMU/HIA302 Health Data Collection and Preparation/Assignments/horse-colic.csv')\n",
        "\n",
        "# *FOR ITEM C AND D*\n",
        "## Replacing missing values with NaN, then saving as new .csv file:\n",
        "df.replace('?', np.nan, inplace=True)\n",
        "df.to_csv('/Users/azfar/Documents/Academic/IMU/HIA302 Health Data Collection and Preparation/Assignments/horse-colic-with-NaN.csv',\n",
        "         index=False)\n",
        "\n",
        "df = pd.read_csv('/Users/azfar/Documents/Academic/IMU/HIA302 Health Data Collection and Preparation/Assignments/horse-colic-with-NaN.csv'names=column_names)"
      ]
    },
    {
      "cell_type": "code",
      "execution_count": null,
      "id": "bcd392fe-88a1-4e6f-a967-dda823762e18",
      "metadata": {
        "id": "bcd392fe-88a1-4e6f-a967-dda823762e18",
        "outputId": "0a32ba4d-6c3e-431b-d50a-39f1130fa1b4"
      },
      "outputs": [
        {
          "data": {
            "text/plain": [
              "Surgery          1\n",
              "Age              0\n",
              "Hosp No          0\n",
              "Rect Temp       60\n",
              "Heart Rate      24\n",
              "Respi Rate      58\n",
              "Ext Temp        56\n",
              "Peri Pulse      69\n",
              "Mucosa          47\n",
              "CRT             32\n",
              "Pain            55\n",
              "Peristalsis     44\n",
              "Abdo Dist       56\n",
              "NG Tube        104\n",
              "NG Ref Vol     106\n",
              "NG Ref pH      247\n",
              "Feces Amt      102\n",
              "Int Feces      118\n",
              "PCV             29\n",
              "Proteins        33\n",
              "Ab_cen App     165\n",
              "Ab_cen Prt     198\n",
              "Outcome          1\n",
              "Les_Exist        0\n",
              "Les_Site         0\n",
              "Les_Type         0\n",
              "Les_Sub          0\n",
              "Les_Code         0\n",
              "Path_Data      300\n",
              "dtype: int64"
            ]
          },
          "execution_count": 31,
          "metadata": {},
          "output_type": "execute_result"
        }
      ],
      "source": [
        "df.isnull().sum()"
      ]
    },
    {
      "cell_type": "code",
      "execution_count": null,
      "id": "76f22120-9fdc-40f8-9ba7-94c3ce830820",
      "metadata": {
        "id": "76f22120-9fdc-40f8-9ba7-94c3ce830820"
      },
      "outputs": [],
      "source": []
    }
  ],
  "metadata": {
    "kernelspec": {
      "display_name": "Python 3 (ipykernel)",
      "language": "python",
      "name": "python3"
    },
    "language_info": {
      "codemirror_mode": {
        "name": "ipython",
        "version": 3
      },
      "file_extension": ".py",
      "mimetype": "text/x-python",
      "name": "python",
      "nbconvert_exporter": "python",
      "pygments_lexer": "ipython3",
      "version": "3.11.3"
    },
    "colab": {
      "provenance": []
    }
  },
  "nbformat": 4,
  "nbformat_minor": 5
}